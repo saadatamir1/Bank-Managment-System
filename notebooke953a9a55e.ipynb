{
 "cells": [
  {
   "cell_type": "code",
   "execution_count": 1,
   "id": "4c3a5fa7",
   "metadata": {
    "_cell_guid": "b1076dfc-b9ad-4769-8c92-a6c4dae69d19",
    "_uuid": "8f2839f25d086af736a60e9eeb907d3b93b6e0e5",
    "execution": {
     "iopub.execute_input": "2024-06-06T12:11:12.856369Z",
     "iopub.status.busy": "2024-06-06T12:11:12.855869Z",
     "iopub.status.idle": "2024-06-06T12:11:13.703794Z",
     "shell.execute_reply": "2024-06-06T12:11:13.702644Z"
    },
    "papermill": {
     "duration": 0.854663,
     "end_time": "2024-06-06T12:11:13.706120",
     "exception": false,
     "start_time": "2024-06-06T12:11:12.851457",
     "status": "completed"
    },
    "tags": []
   },
   "outputs": [
    {
     "name": "stdout",
     "output_type": "stream",
     "text": [
      "/kaggle/input/multimodal-brain-tumor/TransBTS-main/train.py\n",
      "/kaggle/input/multimodal-brain-tumor/TransBTS-main/LICENSE\n",
      "/kaggle/input/multimodal-brain-tumor/TransBTS-main/test.py\n",
      "/kaggle/input/multimodal-brain-tumor/TransBTS-main/README.md\n",
      "/kaggle/input/multimodal-brain-tumor/TransBTS-main/predict.py\n",
      "/kaggle/input/multimodal-brain-tumor/TransBTS-main/utils/tools.py\n",
      "/kaggle/input/multimodal-brain-tumor/TransBTS-main/utils/__init__.py\n",
      "/kaggle/input/multimodal-brain-tumor/TransBTS-main/models/README.md\n",
      "/kaggle/input/multimodal-brain-tumor/TransBTS-main/models/criterions.py\n",
      "/kaggle/input/multimodal-brain-tumor/TransBTS-main/models/TransBTSV2/README.md\n",
      "/kaggle/input/multimodal-brain-tumor/TransBTS-main/models/TransBTS/README.md\n",
      "/kaggle/input/multimodal-brain-tumor/TransBTS-main/models/TransBTS/TransBTS_downsample8x_skipconnection.py\n",
      "/kaggle/input/multimodal-brain-tumor/TransBTS-main/models/TransBTS/IntmdSequential.py\n",
      "/kaggle/input/multimodal-brain-tumor/TransBTS-main/models/TransBTS/PositionalEncoding.py\n",
      "/kaggle/input/multimodal-brain-tumor/TransBTS-main/models/TransBTS/Transformer.py\n",
      "/kaggle/input/multimodal-brain-tumor/TransBTS-main/models/TransBTS/Unet_skipconnection.py\n",
      "/kaggle/input/multimodal-brain-tumor/TransBTS-main/figures/quantitative_comparison_TransBTS.png\n",
      "/kaggle/input/multimodal-brain-tumor/TransBTS-main/figures/qualitative_comparison_TransBTS.png\n",
      "/kaggle/input/multimodal-brain-tumor/TransBTS-main/figures/quantitative_comparison_TransBTSV2.png\n",
      "/kaggle/input/multimodal-brain-tumor/TransBTS-main/figures/architecture_TransBTS.png\n",
      "/kaggle/input/multimodal-brain-tumor/TransBTS-main/figures/architecture_TransBTSV2.png\n",
      "/kaggle/input/multimodal-brain-tumor/TransBTS-main/figures/qualitative_comparison_TransBTSV2.png\n",
      "/kaggle/input/multimodal-brain-tumor/TransBTS-main/data/valid.txt\n",
      "/kaggle/input/multimodal-brain-tumor/TransBTS-main/data/preprocess.py\n",
      "/kaggle/input/multimodal-brain-tumor/TransBTS-main/data/BraTS.py\n",
      "/kaggle/input/multimodal-brain-tumor/TransBTS-main/data/train.txt\n"
     ]
    }
   ],
   "source": [
    "# This Python 3 environment comes with many helpful analytics libraries installed\n",
    "# It is defined by the kaggle/python Docker image: https://github.com/kaggle/docker-python\n",
    "# For example, here's several helpful packages to load\n",
    "\n",
    "import numpy as np # linear algebra\n",
    "import pandas as pd # data processing, CSV file I/O (e.g. pd.read_csv)\n",
    "\n",
    "# Input data files are available in the read-only \"../input/\" directory\n",
    "# For example, running this (by clicking run or pressing Shift+Enter) will list all files under the input directory\n",
    "\n",
    "import os\n",
    "for dirname, _, filenames in os.walk('/kaggle/input'):\n",
    "    for filename in filenames:\n",
    "        print(os.path.join(dirname, filename))\n",
    "\n",
    "# You can write up to 20GB to the current directory (/kaggle/working/) that gets preserved as output when you create a version using \"Save & Run All\" \n",
    "# You can also write temporary files to /kaggle/temp/, but they won't be saved outside of the current session"
   ]
  },
  {
   "cell_type": "code",
   "execution_count": null,
   "id": "8577e954",
   "metadata": {
    "papermill": {
     "duration": 0.001788,
     "end_time": "2024-06-06T12:11:13.710178",
     "exception": false,
     "start_time": "2024-06-06T12:11:13.708390",
     "status": "completed"
    },
    "tags": []
   },
   "outputs": [],
   "source": []
  }
 ],
 "metadata": {
  "kaggle": {
   "accelerator": "none",
   "dataSources": [
    {
     "datasetId": 5158823,
     "sourceId": 8618756,
     "sourceType": "datasetVersion"
    }
   ],
   "isGpuEnabled": false,
   "isInternetEnabled": true,
   "language": "python",
   "sourceType": "notebook"
  },
  "kernelspec": {
   "display_name": "Python 3",
   "language": "python",
   "name": "python3"
  },
  "language_info": {
   "codemirror_mode": {
    "name": "ipython",
    "version": 3
   },
   "file_extension": ".py",
   "mimetype": "text/x-python",
   "name": "python",
   "nbconvert_exporter": "python",
   "pygments_lexer": "ipython3",
   "version": "3.10.13"
  },
  "papermill": {
   "default_parameters": {},
   "duration": 4.084622,
   "end_time": "2024-06-06T12:11:14.131586",
   "environment_variables": {},
   "exception": null,
   "input_path": "__notebook__.ipynb",
   "output_path": "__notebook__.ipynb",
   "parameters": {},
   "start_time": "2024-06-06T12:11:10.046964",
   "version": "2.5.0"
  }
 },
 "nbformat": 4,
 "nbformat_minor": 5
}
